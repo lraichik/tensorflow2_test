{
 "cells": [
  {
   "cell_type": "code",
   "execution_count": 1,
   "metadata": {},
   "outputs": [],
   "source": [
    "import tensorflow as tf"
   ]
  },
  {
   "cell_type": "code",
   "execution_count": 2,
   "metadata": {},
   "outputs": [],
   "source": [
    "import tensorflow_datasets as tfds"
   ]
  },
  {
   "cell_type": "code",
   "execution_count": 3,
   "metadata": {},
   "outputs": [],
   "source": [
    "datasets = tfds.load(\"cifar10\")\n",
    "train_dataset, test_dataset = datasets[\"train\"], datasets[\"test\"]\n",
    "assert isinstance(train_dataset, tf.data.Dataset)"
   ]
  },
  {
   "cell_type": "code",
   "execution_count": 4,
   "metadata": {},
   "outputs": [],
   "source": [
    "import IPython.display as display\n",
    "import numpy as np\n",
    "import matplotlib.pyplot as plt\n",
    "import os"
   ]
  },
  {
   "cell_type": "code",
   "execution_count": 5,
   "metadata": {},
   "outputs": [],
   "source": [
    "cifar10_builder = tfds.builder('cifar10')"
   ]
  },
  {
   "cell_type": "code",
   "execution_count": 6,
   "metadata": {},
   "outputs": [],
   "source": [
    "info = cifar10_builder.info"
   ]
  },
  {
   "cell_type": "code",
   "execution_count": 7,
   "metadata": {},
   "outputs": [
    {
     "name": "stdout",
     "output_type": "stream",
     "text": [
      "tfds.core.DatasetInfo(\n",
      "    name='cifar10',\n",
      "    version=1.0.2,\n",
      "    description='The CIFAR-10 dataset consists of 60000 32x32 colour images in 10 classes, with 6000 images per class. There are 50000 training images and 10000 test images.',\n",
      "    urls=['https://www.cs.toronto.edu/~kriz/cifar.html'],\n",
      "    features=FeaturesDict({\n",
      "        'image': Image(shape=(32, 32, 3), dtype=tf.uint8),\n",
      "        'label': ClassLabel(shape=(), dtype=tf.int64, num_classes=10),\n",
      "    }),\n",
      "    total_num_examples=60000,\n",
      "    splits={\n",
      "        'test': 10000,\n",
      "        'train': 50000,\n",
      "    },\n",
      "    supervised_keys=('image', 'label'),\n",
      "    citation=\"\"\"@TECHREPORT{Krizhevsky09learningmultiple,\n",
      "        author = {Alex Krizhevsky},\n",
      "        title = {Learning multiple layers of features from tiny images},\n",
      "        institution = {},\n",
      "        year = {2009}\n",
      "    }\"\"\",\n",
      "    redistribution_info=,\n",
      ")\n",
      "\n"
     ]
    }
   ],
   "source": [
    "print(info)"
   ]
  },
  {
   "cell_type": "code",
   "execution_count": 8,
   "metadata": {},
   "outputs": [
    {
     "data": {
      "text/plain": [
       "['airplane',\n",
       " 'automobile',\n",
       " 'bird',\n",
       " 'cat',\n",
       " 'deer',\n",
       " 'dog',\n",
       " 'frog',\n",
       " 'horse',\n",
       " 'ship',\n",
       " 'truck']"
      ]
     },
     "execution_count": 8,
     "metadata": {},
     "output_type": "execute_result"
    }
   ],
   "source": [
    "info.features['label'].names"
   ]
  },
  {
   "cell_type": "code",
   "execution_count": 9,
   "metadata": {},
   "outputs": [
    {
     "data": {
      "text/plain": [
       "'airplane'"
      ]
     },
     "execution_count": 9,
     "metadata": {},
     "output_type": "execute_result"
    }
   ],
   "source": [
    "info.features['label'].int2str(0)"
   ]
  },
  {
   "cell_type": "code",
   "execution_count": 10,
   "metadata": {},
   "outputs": [
    {
     "data": {
      "image/png": "[encoded data removed]",
      "text/plain": [
       "<Figure size 432x288 with 1 Axes>"
      ]
     },
     "metadata": {},
     "output_type": "display_data"
    },
    {
     "name": "stdout",
     "output_type": "stream",
     "text": [
      "3\n",
      "[[[184 159 149]\n",
      "  [181 157 146]\n",
      "  [182 158 145]\n",
      "  ...\n",
      "  [180 152 138]\n",
      "  [179 151 137]\n",
      "  [178 149 135]]\n",
      "\n",
      " [[181 157 147]\n",
      "  [179 155 144]\n",
      "  [179 155 142]\n",
      "  ...\n",
      "  [177 149 135]\n",
      "  [177 149 135]\n",
      "  [176 148 133]]\n",
      "\n",
      " [[182 158 148]\n",
      "  [179 155 144]\n",
      "  [179 155 143]\n",
      "  ...\n",
      "  [178 150 136]\n",
      "  [177 149 135]\n",
      "  [176 148 134]]\n",
      "\n",
      " ...\n",
      "\n",
      " [[240 227 168]\n",
      "  [235 221 164]\n",
      "  [233 220 162]\n",
      "  ...\n",
      "  [226 202 139]\n",
      "  [225 199 139]\n",
      "  [224 197 138]]\n",
      "\n",
      " [[238 221 164]\n",
      "  [233 217 161]\n",
      "  [233 217 160]\n",
      "  ...\n",
      "  [222 195 133]\n",
      "  [223 193 134]\n",
      "  [221 190 133]]\n",
      "\n",
      " [[233 216 158]\n",
      "  [230 213 157]\n",
      "  [231 214 158]\n",
      "  ...\n",
      "  [222 191 130]\n",
      "  [221 188 130]\n",
      "  [219 185 129]]]\n"
     ]
    }
   ],
   "source": [
    "for example in train_dataset.take(1):  # Only take a single example\n",
    "    plt.imshow(example['image'].numpy())\n",
    "    plt.show()\n",
    "    print(example['label'].numpy())\n",
    "    print(example['image'].numpy())"
   ]
  },
  {
   "cell_type": "code",
   "execution_count": 11,
   "metadata": {},
   "outputs": [],
   "source": [
    "for batch in train_dataset.batch(50000):\n",
    "    x_train = batch['image']\n",
    "    y_train = batch['label'].numpy().astype('uint8')"
   ]
  },
  {
   "cell_type": "code",
   "execution_count": 12,
   "metadata": {},
   "outputs": [
    {
     "data": {
      "text/plain": [
       "array([[[156, 166, 181],\n",
       "        [153, 166, 179],\n",
       "        [153, 168, 181],\n",
       "        ...,\n",
       "        [ 91, 141, 173],\n",
       "        [ 75, 134, 166],\n",
       "        [ 61, 126, 163]],\n",
       "\n",
       "       [[163, 172, 187],\n",
       "        [160, 171, 185],\n",
       "        [157, 171, 184],\n",
       "        ...,\n",
       "        [104, 153, 186],\n",
       "        [ 91, 145, 179],\n",
       "        [ 77, 137, 174]],\n",
       "\n",
       "       [[163, 171, 184],\n",
       "        [168, 178, 189],\n",
       "        [161, 174, 184],\n",
       "        ...,\n",
       "        [117, 162, 193],\n",
       "        [106, 153, 187],\n",
       "        [ 94, 146, 181]],\n",
       "\n",
       "       ...,\n",
       "\n",
       "       [[141, 143, 148],\n",
       "        [132, 140, 148],\n",
       "        [131, 140, 149],\n",
       "        ...,\n",
       "        [171, 172, 176],\n",
       "        [171, 172, 177],\n",
       "        [168, 174, 181]],\n",
       "\n",
       "       [[147, 148, 150],\n",
       "        [133, 139, 147],\n",
       "        [132, 139, 149],\n",
       "        ...,\n",
       "        [170, 171, 175],\n",
       "        [171, 172, 177],\n",
       "        [171, 174, 182]],\n",
       "\n",
       "       [[154, 154, 153],\n",
       "        [132, 137, 143],\n",
       "        [130, 136, 145],\n",
       "        ...,\n",
       "        [166, 167, 172],\n",
       "        [168, 170, 174],\n",
       "        [169, 171, 177]]], dtype=uint8)"
      ]
     },
     "execution_count": 12,
     "metadata": {},
     "output_type": "execute_result"
    }
   ],
   "source": [
    "x_train[5000].numpy()"
   ]
  },
  {
   "cell_type": "code",
   "execution_count": 13,
   "metadata": {},
   "outputs": [
    {
     "data": {
      "text/plain": [
       "0"
      ]
     },
     "execution_count": 13,
     "metadata": {},
     "output_type": "execute_result"
    }
   ],
   "source": [
    "y_train[5000]"
   ]
  },
  {
   "cell_type": "code",
   "execution_count": 14,
   "metadata": {},
   "outputs": [
    {
     "data": {
      "text/plain": [
       "array([3, 9, 3, ..., 9, 3, 7], dtype=uint8)"
      ]
     },
     "execution_count": 14,
     "metadata": {},
     "output_type": "execute_result"
    }
   ],
   "source": [
    "y_train"
   ]
  },
  {
   "cell_type": "code",
   "execution_count": 15,
   "metadata": {},
   "outputs": [
    {
     "data": {
      "image/png": "[encoded data removed]",
      "text/plain": [
       "<Figure size 432x288 with 1 Axes>"
      ]
     },
     "metadata": {},
     "output_type": "display_data"
    }
   ],
   "source": [
    "plt.imshow(x_train[5000].numpy())\n",
    "plt.show()"
   ]
  },
  {
   "cell_type": "code",
   "execution_count": 16,
   "metadata": {},
   "outputs": [],
   "source": [
    "for batch in test_dataset.batch(10000):\n",
    "    x_test = batch['image']\n",
    "    y_test = batch['label'].numpy().astype('uint8')"
   ]
  },
  {
   "cell_type": "code",
   "execution_count": 17,
   "metadata": {},
   "outputs": [
    {
     "name": "stdout",
     "output_type": "stream",
     "text": [
      "Train on 50000 samples\n",
      "Epoch 1/5\n",
      "50000/50000 [==============================] - 6s 114us/sample - loss: 5.4468 - accuracy: 0.0999\n",
      "Epoch 2/5\n",
      "50000/50000 [==============================] - 5s 105us/sample - loss: 2.3028 - accuracy: 0.0990\n",
      "Epoch 3/5\n",
      "50000/50000 [==============================] - 5s 108us/sample - loss: 2.3028 - accuracy: 0.1003\n",
      "Epoch 4/5\n",
      "50000/50000 [==============================] - 6s 113us/sample - loss: 2.3027 - accuracy: 0.0977\n",
      "Epoch 5/5\n",
      "50000/50000 [==============================] - 6s 115us/sample - loss: 2.3029 - accuracy: 0.0963\n"
     ]
    },
    {
     "data": {
      "text/plain": [
       "<tensorflow.python.keras.callbacks.History at 0x1e7c55f7518>"
      ]
     },
     "execution_count": 17,
     "metadata": {},
     "output_type": "execute_result"
    }
   ],
   "source": [
    "model = tf.keras.models.Sequential([\n",
    "  tf.keras.layers.Flatten(input_shape=(32,32,3)),\n",
    "  tf.keras.layers.Dense(128, activation='relu'),\n",
    "  tf.keras.layers.Dropout(0.2),\n",
    "  tf.keras.layers.Dense(10, activation='softmax')\n",
    "])\n",
    "\n",
    "model.compile(optimizer='adam',\n",
    "              loss='sparse_categorical_crossentropy',\n",
    "              metrics=['accuracy'])\n",
    "\n",
    "model.fit(x_train, y_train, epochs=5)"
   ]
  },
  {
   "cell_type": "code",
   "execution_count": 18,
   "metadata": {},
   "outputs": [
    {
     "data": {
      "text/plain": [
       "[2.302613898086548, 0.1]"
      ]
     },
     "execution_count": 18,
     "metadata": {},
     "output_type": "execute_result"
    }
   ],
   "source": [
    "model.evaluate(x_test, y_test, verbose=0)"
   ]
  },
  {
   "cell_type": "code",
   "execution_count": 30,
   "metadata": {},
   "outputs": [
    {
     "name": "stdout",
     "output_type": "stream",
     "text": [
      "Train on 50000 samples\n",
      "Epoch 1/5\n",
      "50000/50000 [==============================] - 35s 696us/sample - loss: 1.7304 - accuracy: 0.3995\n",
      "Epoch 2/5\n",
      "50000/50000 [==============================] - 37s 746us/sample - loss: 1.3061 - accuracy: 0.5367\n",
      "Epoch 3/5\n",
      "50000/50000 [==============================] - 37s 736us/sample - loss: 1.1527 - accuracy: 0.5946\n",
      "Epoch 4/5\n",
      "50000/50000 [==============================] - 37s 740us/sample - loss: 1.0440 - accuracy: 0.6350\n",
      "Epoch 5/5\n",
      "50000/50000 [==============================] - 36s 716us/sample - loss: 0.9706 - accuracy: 0.6613\n"
     ]
    },
    {
     "data": {
      "text/plain": [
       "<tensorflow.python.keras.callbacks.History at 0x1e7c98bc7f0>"
      ]
     },
     "execution_count": 30,
     "metadata": {},
     "output_type": "execute_result"
    }
   ],
   "source": [
    "model = tf.keras.models.Sequential([\n",
    "    tf.keras.layers.Conv2D(32, (3, 3), activation='relu', input_shape=(32, 32, 3)),\n",
    "    tf.keras.layers.MaxPooling2D((2, 2)),\n",
    "    tf.keras.layers.Conv2D(64, (3, 3), activation='relu'),\n",
    "    tf.keras.layers.MaxPooling2D((2, 2)),\n",
    "    tf.keras.layers.Conv2D(64, (3, 3), activation='relu'),\n",
    "    tf.keras.layers.Flatten(),\n",
    "    tf.keras.layers.Dense(64, activation='relu'),\n",
    "    tf.keras.layers.Dense(10, activation='softmax')  \n",
    "])\n",
    "\n",
    "model.compile(optimizer='adam',\n",
    "              loss='sparse_categorical_crossentropy',\n",
    "              metrics=['accuracy'])\n",
    "\n",
    "model.fit(x_train, y_train, epochs=5)"
   ]
  },
  {
   "cell_type": "code",
   "execution_count": 28,
   "metadata": {},
   "outputs": [
    {
     "data": {
      "text/plain": [
       "[1.106642893600464, 0.6273]"
      ]
     },
     "execution_count": 28,
     "metadata": {},
     "output_type": "execute_result"
    }
   ],
   "source": [
    "model.evaluate(x_test, y_test, verbose=0)"
   ]
  },
  {
   "cell_type": "code",
   "execution_count": 29,
   "metadata": {},
   "outputs": [
    {
     "name": "stdout",
     "output_type": "stream",
     "text": [
      "Model: \"sequential_3\"\n",
      "_________________________________________________________________\n",
      "Layer (type)                 Output Shape              Param #   \n",
      "=================================================================\n",
      "conv2d_6 (Conv2D)            (None, 30, 30, 32)        896       \n",
      "_________________________________________________________________\n",
      "max_pooling2d_4 (MaxPooling2 (None, 15, 15, 32)        0         \n",
      "_________________________________________________________________\n",
      "conv2d_7 (Conv2D)            (None, 13, 13, 64)        18496     \n",
      "_________________________________________________________________\n",
      "max_pooling2d_5 (MaxPooling2 (None, 6, 6, 64)          0         \n",
      "_________________________________________________________________\n",
      "flatten_3 (Flatten)          (None, 2304)              0         \n",
      "_________________________________________________________________\n",
      "dense_6 (Dense)              (None, 64)                147520    \n",
      "_________________________________________________________________\n",
      "dense_7 (Dense)              (None, 10)                650       \n",
      "=================================================================\n",
      "Total params: 167,562\n",
      "Trainable params: 167,562\n",
      "Non-trainable params: 0\n",
      "_________________________________________________________________\n"
     ]
    }
   ],
   "source": [
    "model.summary()"
   ]
  },
  {
   "cell_type": "code",
   "execution_count": null,
   "metadata": {},
   "outputs": [],
   "source": []
  }
 ],
 "metadata": {
  "kernelspec": {
   "display_name": "Python 3",
   "language": "python",
   "name": "python3"
  },
  "language_info": {
   "codemirror_mode": {
    "name": "ipython",
    "version": 3
   },
   "file_extension": ".py",
   "mimetype": "text/x-python",
   "name": "python",
   "nbconvert_exporter": "python",
   "pygments_lexer": "ipython3",
   "version": "3.6.9"
  }
 },
 "nbformat": 4,
 "nbformat_minor": 2
}
